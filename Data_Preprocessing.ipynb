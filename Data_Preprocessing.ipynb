{
 "cells": [
  {
   "cell_type": "code",
   "execution_count": 3,
   "id": "321d149f",
   "metadata": {},
   "outputs": [
    {
     "name": "stdout",
     "output_type": "stream",
     "text": [
      "               Price      Open      High       Low     Vol. Change %\n",
      "Date                                                                \n",
      "2010-01-04  1,118.30  1,099.00  1,124.60  1,093.80  155.48K    2.02%\n",
      "2010-01-05  1,118.70  1,122.00  1,129.60  1,115.50  156.41K    0.04%\n",
      "2010-01-06  1,136.50  1,118.50  1,141.00  1,116.80  176.90K    1.59%\n",
      "2010-01-07  1,133.70  1,139.00  1,139.50  1,128.70  121.15K   -0.25%\n",
      "2010-01-08  1,138.90  1,131.50  1,140.00  1,119.50  212.62K    0.46%\n"
     ]
    }
   ],
   "source": [
    "import pandas as pd\n",
    "import matplotlib.pyplot as plt\n",
    "\n",
    "# Bước 1: Đọc dữ liệu từ file CSV\n",
    "df = pd.read_csv('./Data/Gold_Futures_Historical_Data.csv')\n",
    "\n",
    "# Chuyển cột Date thành định dạng datetime\n",
    "df['Date'] = pd.to_datetime(df['Date'])\n",
    "\n",
    "# Sắp xếp dữ liệu theo cột Date\n",
    "df = df.sort_values('Date', ascending=True).reset_index(drop=True)\n",
    "\n",
    "# Đặt cột Date làm index (tùy thuộc vào nhu cầu)\n",
    "df.set_index('Date', inplace=True)\n",
    "\n",
    "# Xóa NAN \n",
    "df.dropna(inplace=True)\n",
    "\n",
    "# Xem qua dữ liệu\n",
    "print(df.head())"
   ]
  },
  {
   "cell_type": "code",
   "execution_count": 4,
   "id": "af812b1d",
   "metadata": {},
   "outputs": [
    {
     "name": "stdout",
     "output_type": "stream",
     "text": [
      "             Price    Open    High     Low      Vol.\n",
      "Date                                                \n",
      "2010-01-04  1118.3  1099.0  1124.6  1093.8  155480.0\n",
      "2010-01-05  1118.7  1122.0  1129.6  1115.5  156410.0\n",
      "2010-01-06  1136.5  1118.5  1141.0  1116.8  176900.0\n",
      "2010-01-07  1133.7  1139.0  1139.5  1128.7  121150.0\n",
      "2010-01-08  1138.9  1131.5  1140.0  1119.5  212620.0\n"
     ]
    }
   ],
   "source": [
    "def convert_volume(val):\n",
    "    if isinstance(val, str):\n",
    "        val = val.replace(',', '')\n",
    "        if 'K' in val:\n",
    "            return float(val.replace('K', '')) * 1_000\n",
    "        elif val.strip() == '-':\n",
    "            return None\n",
    "        else:\n",
    "            return float(val)\n",
    "    return val\n",
    "\n",
    "# Loại bỏ dấu phẩy và chuyển các cột thành float\n",
    "cols_to_convert = ['Price', 'Open', 'High', 'Low']\n",
    "for col in cols_to_convert:\n",
    "    df[col] = df[col].str.replace(',', '').astype(float)\n",
    "\n",
    "# Xử lý cột \"Vol.\"\n",
    "df['Vol.'] = df['Vol.'].apply(convert_volume)\n",
    "\n",
    "# Xóa cột \"Change %\"\n",
    "df.drop(columns=['Change %'], inplace=True)\n",
    "\n",
    "# In dữ liệu sau khi xử lý\n",
    "print(df.head())"
   ]
  },
  {
   "cell_type": "code",
   "execution_count": 5,
   "id": "1fe35261",
   "metadata": {},
   "outputs": [
    {
     "name": "stdout",
     "output_type": "stream",
     "text": [
      "<class 'pandas.core.frame.DataFrame'>\n",
      "DatetimeIndex: 3915 entries, 2010-01-04 to 2025-05-16\n",
      "Data columns (total 5 columns):\n",
      " #   Column  Non-Null Count  Dtype  \n",
      "---  ------  --------------  -----  \n",
      " 0   Price   3915 non-null   float64\n",
      " 1   Open    3915 non-null   float64\n",
      " 2   High    3915 non-null   float64\n",
      " 3   Low     3915 non-null   float64\n",
      " 4   Vol.    3915 non-null   float64\n",
      "dtypes: float64(5)\n",
      "memory usage: 183.5 KB\n",
      "None\n"
     ]
    }
   ],
   "source": [
    "print(df.info())"
   ]
  },
  {
   "cell_type": "code",
   "execution_count": 6,
   "id": "6e823fad",
   "metadata": {},
   "outputs": [],
   "source": [
    "df.to_csv('./Data/Gold_Futures_Cleaned.csv')"
   ]
  }
 ],
 "metadata": {
  "kernelspec": {
   "display_name": "datamining",
   "language": "python",
   "name": "python3"
  },
  "language_info": {
   "codemirror_mode": {
    "name": "ipython",
    "version": 3
   },
   "file_extension": ".py",
   "mimetype": "text/x-python",
   "name": "python",
   "nbconvert_exporter": "python",
   "pygments_lexer": "ipython3",
   "version": "3.12.3"
  }
 },
 "nbformat": 4,
 "nbformat_minor": 5
}
